{
 "cells": [
  {
   "cell_type": "code",
   "execution_count": null,
   "metadata": {},
   "outputs": [],
   "source": [
    "# IFS\n",
    "#\n",
    "# Run multiple test cases against oneself to determine \n",
    "# how frequent are the successful defenses and/or leaks. \n",
    "# Minimize the delay for major troubleshooting measures \n",
    "# whether something suspicious is bound to happen (trends, backlog)\n",
    "\n",
    "# delay = 0\n",
    "# testcases = [case1, case2, case3,...]\n",
    "# While (1):\n",
    "#   For case in testcases:\n",
    "#      success, failure, delay = execute(case, delay)\n",
    "#      switch:\n",
    "#         outcome(success)"
   ]
  },
  {
   "cell_type": "code",
   "execution_count": null,
   "metadata": {},
   "outputs": [],
   "source": [
    "# IDS\n",
    "#\n",
    "# Use two or multiple planes for locally prevalent issues \n",
    "# and globally uncommon anomalies and/or other types of intrusions.\n",
    "\n",
    "# While (1):\n",
    "#   For case in testcases:\n",
    "#      protected, unprotected = execute(case)"
   ]
  },
  {
   "cell_type": "code",
   "execution_count": null,
   "metadata": {},
   "outputs": [],
   "source": [
    "# IPS\n",
    "#\n",
    "# “Minutes to Midnight”, extend captcha lifetime, ask for verification \n",
    "# on the run and turn off if responses delayed or incorrect sequences \n",
    "# occur.\n",
    "\n",
    "# While (1):\n",
    "#   For case in testcases:\n",
    "#      protected, unprotected = execute(case)"
   ]
  },
  {
   "cell_type": "code",
   "execution_count": null,
   "metadata": {},
   "outputs": [],
   "source": [
    "# IMS\n",
    "#\n",
    "# Form damages into new test cases (train), dynamic whitelisting\n",
    "# (isolate), multi-pod logging (record), discover software accesses\n",
    "# that could help to detect threats better according to whitelisted\n",
    "# commands and logs (patch), \n",
    "\n",
    "# While (1):\n",
    "#   For case in testcases:\n",
    "#      protected, unprotected = execute(case)"
   ]
  },
  {
   "cell_type": "code",
   "execution_count": null,
   "metadata": {},
   "outputs": [],
   "source": [
    "# IES\n",
    "#\n",
    "# “Minutes to Midnight”, extend captcha lifetime, ask for verification \n",
    "# on the run and turn off if responses delayed or incorrect sequences \n",
    "# occur.\n",
    "\n",
    "# While (1):\n",
    "#   For case in testcases:\n",
    "#      protected, unprotected = execute(case)"
   ]
  },
  {
   "cell_type": "code",
   "execution_count": null,
   "metadata": {},
   "outputs": [],
   "source": [
    "# IRS\n",
    "#\n",
    "# “Minutes to Midnight”, extend captcha lifetime, ask for verification \n",
    "# on the run and turn off if responses delayed or incorrect sequences \n",
    "# occur.\n",
    "\n",
    "# While (1):\n",
    "#   For case in testcases:\n",
    "#      protected, unprotected = execute(case)"
   ]
  }
 ],
 "metadata": {
  "kernelspec": {
   "display_name": "Python 3",
   "language": "python",
   "name": "python3"
  },
  "language_info": {
   "codemirror_mode": {
    "name": "ipython",
    "version": 3
   },
   "file_extension": ".py",
   "mimetype": "text/x-python",
   "name": "python",
   "nbconvert_exporter": "python",
   "pygments_lexer": "ipython3",
   "version": "3.6.9"
  }
 },
 "nbformat": 4,
 "nbformat_minor": 4
}
